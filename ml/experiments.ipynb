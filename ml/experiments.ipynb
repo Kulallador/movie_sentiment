{
 "cells": [
  {
   "cell_type": "markdown",
   "metadata": {
    "id": "U8-zDBvasPmY"
   },
   "source": [
    "В данном ноутбуке представлены эксперименты с моделями для решения задачи классификации отзывов к фильмам. Требуется классифицировать оценку пользователя к фильму и эмоциональную оценку отзыва (хоршиее впечатление от фильма или плохое). В качестве набора данных использовался Large Movie Review Dataset. В набре данных присутствуют оценки от 1 до 4 (плохое впечатление) и от 6 до 10 (хорошее)."
   ]
  },
  {
   "cell_type": "code",
   "execution_count": 3,
   "metadata": {
    "colab": {
     "base_uri": "https://localhost:8080/"
    },
    "id": "KqWPjIyOgEWm",
    "outputId": "c590aa3c-ba9e-4b9b-bc81-c228d32f4632"
   },
   "outputs": [
    {
     "name": "stderr",
     "output_type": "stream",
     "text": [
      "[nltk_data] Downloading package stopwords to /root/nltk_data...\n",
      "[nltk_data]   Unzipping corpora/stopwords.zip.\n",
      "[nltk_data] Downloading package wordnet to /root/nltk_data...\n"
     ]
    },
    {
     "data": {
      "text/plain": [
       "True"
      ]
     },
     "execution_count": 3,
     "metadata": {},
     "output_type": "execute_result"
    }
   ],
   "source": [
    "import os\n",
    "import pandas as pd\n",
    "import numpy as np\n",
    "import random as rnd\n",
    "import re\n",
    "import string\n",
    "from nltk.tokenize import WordPunctTokenizer\n",
    "from pymystem3 import Mystem\n",
    "import nltk\n",
    "from math import sqrt\n",
    "\n",
    "from sklearn.metrics import accuracy_score, precision_score, \\\n",
    "    recall_score, f1_score, classification_report\n",
    "from sklearn.model_selection import train_test_split\n",
    "\n",
    "nltk.download(\"stopwords\")\n",
    "nltk.download(\"wordnet\")"
   ]
  },
  {
   "cell_type": "code",
   "execution_count": 4,
   "metadata": {
    "id": "-nZn29720cnS"
   },
   "outputs": [],
   "source": [
    "tokenizer = WordPunctTokenizer()\n",
    "lemmatizer = nltk.stem.WordNetLemmatizer()\n",
    "stopwords = nltk.corpus.stopwords.words(\"english\")"
   ]
  },
  {
   "cell_type": "code",
   "execution_count": 5,
   "metadata": {
    "id": "nyHgyjq00Yb-"
   },
   "outputs": [],
   "source": [
    "SEED = 42\n",
    "np.random.seed(SEED)\n",
    "rnd.seed(SEED)"
   ]
  },
  {
   "cell_type": "markdown",
   "metadata": {
    "id": "cuzh8LMUs4OG"
   },
   "source": [
    "Загрузка данных"
   ]
  },
  {
   "cell_type": "code",
   "execution_count": 6,
   "metadata": {
    "id": "V497r2NagjST"
   },
   "outputs": [],
   "source": [
    "train_dir = \"aclImdb/train\"\n",
    "test_dir = \"aclImdb/test\""
   ]
  },
  {
   "cell_type": "code",
   "execution_count": 7,
   "metadata": {
    "id": "e9j_juJDjeFW"
   },
   "outputs": [],
   "source": [
    "def load_data(path):\n",
    "    data_dict = {\n",
    "        \"text\":[],\n",
    "        \"score\":[],\n",
    "        \"sentiment\":[]\n",
    "    }\n",
    "\n",
    "    for file in os.listdir(f\"{path}/pos\"):\n",
    "        with open(f\"{path}/pos/{file}\", \"r\") as f:\n",
    "            data_dict[\"text\"].append(\"\".join(f.readlines()))\n",
    "        filename = file.split(\".\")[0]\n",
    "        score = int(filename.split(\"_\")[1])\n",
    "        data_dict[\"score\"].append(score)\n",
    "        data_dict[\"sentiment\"].append(1)\n",
    "\n",
    "    for file in os.listdir(f\"{path}/neg\"):\n",
    "        with open(f\"{path}/neg/{file}\", \"r\") as f:\n",
    "            data_dict[\"text\"].append(\"\".join(f.readlines()))\n",
    "        filename = file.split(\".\")[0]\n",
    "        score = int(filename.split(\"_\")[1])\n",
    "        data_dict[\"score\"].append(score)\n",
    "        data_dict[\"sentiment\"].append(0)\n",
    "    return pd.DataFrame(data_dict)"
   ]
  },
  {
   "cell_type": "code",
   "execution_count": 8,
   "metadata": {
    "id": "qOrIWc_e2lAm"
   },
   "outputs": [],
   "source": [
    "df_train = load_data(train_dir)\n",
    "df_test = load_data(test_dir)"
   ]
  },
  {
   "cell_type": "markdown",
   "metadata": {
    "id": "DDPiCNjfs0uI"
   },
   "source": [
    "Предобработка данных. Из предложений ислючаются знаки пунктуации, цифры и стоп слова. Далее каждое слово приводится к его начальной форме с помощью WordNetLemmatizer из библиотеки nltk. \n",
    "\n",
    "Также корректируются оценки:\n",
    "\n",
    "от 0 до 3 - плохое впечатление\n",
    "\n",
    "от 4 до 7 - хорошее впечатление\n",
    "\n"
   ]
  },
  {
   "cell_type": "code",
   "execution_count": 9,
   "metadata": {
    "id": "gngqOZxy15Xy"
   },
   "outputs": [],
   "source": [
    "def preprocess_text(text, tokenizer=tokenizer):\n",
    "    text = re.sub(\"<br />\", \"\", text)\n",
    "\n",
    "    sents = []\n",
    "    for sent in text.lower().split(\".\"):\n",
    "        preprocessed_sent = []\n",
    "        for word in tokenizer.tokenize(sent):\n",
    "            if (word not in stopwords) and (word not in string.punctuation) \\\n",
    "                    and (not word.isdigit()):\n",
    "                lemmatize_word = lemmatizer.lemmatize(word)\n",
    "                preprocessed_sent.append(lemmatize_word)\n",
    "        sents.append(\" \".join(preprocessed_sent))\n",
    "    return \" \".join(sents)\n",
    "\n",
    "def score_corrector(label):\n",
    "    if label > 6:\n",
    "        return label - 3\n",
    "    return label - 1"
   ]
  },
  {
   "cell_type": "code",
   "execution_count": 10,
   "metadata": {
    "id": "73-jblHm6Ld4"
   },
   "outputs": [],
   "source": [
    "df_train[\"lemmatize_text\"] = df_train[\"text\"].apply(preprocess_text)\n",
    "df_test[\"lemmatize_text\"] = df_test[\"text\"].apply(preprocess_text)\n",
    "\n",
    "df_train[\"score\"] = df_train[\"score\"].apply(score_corrector)\n",
    "df_test[\"score\"] = df_test[\"score\"].apply(score_corrector)"
   ]
  },
  {
   "cell_type": "markdown",
   "metadata": {
    "id": "o46YvCA3u3Z2"
   },
   "source": [
    "Разделение выборки на train и val."
   ]
  },
  {
   "cell_type": "code",
   "execution_count": 11,
   "metadata": {
    "id": "qrHKbMMD-j_0"
   },
   "outputs": [],
   "source": [
    "lemmatize_text = df_train[\"lemmatize_text\"].to_numpy()\n",
    "score = df_train[\"score\"].to_numpy()"
   ]
  },
  {
   "cell_type": "code",
   "execution_count": 12,
   "metadata": {
    "id": "vQyxh1BjqfXe"
   },
   "outputs": [],
   "source": [
    "train_text, val_text, train_labels, val_labels = train_test_split(lemmatize_text, \n",
    "                                                                  score, \n",
    "                                                                  test_size=0.3, \n",
    "                                                                  random_state=SEED)"
   ]
  },
  {
   "cell_type": "code",
   "execution_count": 19,
   "metadata": {
    "id": "78UE_rp4v7Lh"
   },
   "outputs": [],
   "source": [
    "def print_metrics(y_test, y_pred):\n",
    "    print(\"Accuracy: \", accuracy_score(y_test, y_pred))\n",
    "    print(\"Macro precision: \", precision_score(y_test, y_pred, average=\"macro\"))\n",
    "    print(\"Micro precision: \", precision_score(y_test, y_pred, average=\"micro\"))\n",
    "    print(\"Macro recall: \", recall_score(y_test, y_pred, average=\"macro\"))\n",
    "    print(\"Micro recall: \", recall_score(y_test, y_pred, average=\"micro\"))\n",
    "    print(\"Macro f1-score: \", f1_score(y_test, y_pred, average=\"macro\"))\n",
    "    print(\"Micro f1-score: \", f1_score(y_test, y_pred, average=\"micro\"))"
   ]
  },
  {
   "cell_type": "code",
   "execution_count": 20,
   "metadata": {
    "id": "-NWWCutLv8Vx"
   },
   "outputs": [],
   "source": [
    "def print_sentiment_metrics(y_test, y_pred):\n",
    "    y_test = y_test > 4\n",
    "    y_pred = y_pred > 4\n",
    "    print(\"Accuracy: \", accuracy_score(y_test, y_pred))\n",
    "    print(\"Precision: \", precision_score(y_test, y_pred))\n",
    "    print(\"Recall: \", recall_score(y_test, y_pred))\n",
    "    print(\"F1-score: \", f1_score(y_test, y_pred))"
   ]
  },
  {
   "cell_type": "markdown",
   "metadata": {
    "id": "Bba3HJ6_vrLg"
   },
   "source": [
    "### TF-IDF"
   ]
  },
  {
   "cell_type": "markdown",
   "metadata": {
    "id": "CyxgJ-0Xvusy"
   },
   "source": [
    "В первую очередь проведем эксперименты с tf-idf на классических моделях, а именно на случайном лесе, логистической регрессии и SVM."
   ]
  },
  {
   "cell_type": "code",
   "execution_count": null,
   "metadata": {
    "id": "JljHUF_xrtkK"
   },
   "outputs": [],
   "source": [
    "from sklearn.feature_extraction.text import TfidfVectorizer\n",
    "from sklearn.ensemble import RandomForestClassifier\n",
    "from sklearn.linear_model import LogisticRegressionCV\n",
    "from sklearn.svm import LinearSVC"
   ]
  },
  {
   "cell_type": "code",
   "execution_count": null,
   "metadata": {
    "colab": {
     "base_uri": "https://localhost:8080/"
    },
    "id": "PzzPTcNAwYuu",
    "outputId": "272417d1-dafa-4735-9c76-0a6ee55bb360"
   },
   "outputs": [
    {
     "name": "stdout",
     "output_type": "stream",
     "text": [
      "(17500, 20225)\n"
     ]
    }
   ],
   "source": [
    "tfidf_vectorizer = TfidfVectorizer(min_df=5)\n",
    "train_vectorize = tfidf_vectorizer.fit_transform(train_text)\n",
    "val_vectorize = tfidf_vectorizer.transform(val_text)\n",
    "print(train_vectorize.shape)"
   ]
  },
  {
   "cell_type": "markdown",
   "metadata": {
    "id": "RAmxV-LZ6Kly"
   },
   "source": [
    "Случайный лес"
   ]
  },
  {
   "cell_type": "code",
   "execution_count": null,
   "metadata": {
    "colab": {
     "base_uri": "https://localhost:8080/"
    },
    "id": "xa1YsO1Fwao2",
    "outputId": "698e1828-d91a-49dd-e0c9-9b4a054c0830"
   },
   "outputs": [
    {
     "name": "stdout",
     "output_type": "stream",
     "text": [
      "Accuracy:  0.3704\n",
      "Macro precision:  0.35025195831120176\n",
      "Micro precision:  0.3704\n",
      "Macro recall:  0.25242613694067983\n",
      "Micro recall:  0.3704\n",
      "Macro f1-score:  0.18545276539490183\n",
      "Micro f1-score:  0.3704\n"
     ]
    }
   ],
   "source": [
    "rf = RandomForestClassifier(\n",
    "    class_weight=\"balanced\", \n",
    "    random_state=SEED\n",
    ")\n",
    "rf.fit(train_vectorize, train_labels)\n",
    "\n",
    "pred_rf_tfidf = rf.predict(val_vectorize)\n",
    "print_metrics(val_labels, pred_rf_tfidf)"
   ]
  },
  {
   "cell_type": "code",
   "execution_count": null,
   "metadata": {
    "colab": {
     "base_uri": "https://localhost:8080/"
    },
    "id": "XlJEIgAAXYTX",
    "outputId": "87db4292-f32a-44a4-84e7-5773f8b31317"
   },
   "outputs": [
    {
     "name": "stdout",
     "output_type": "stream",
     "text": [
      "Accuracy:  0.7810666666666667\n",
      "Precision:  0.6883821932681867\n",
      "Recall:  0.836963696369637\n",
      "F1-score:  0.7554364015490022\n"
     ]
    }
   ],
   "source": [
    "print_sentiment_metrics(val_labels, pred_rf_tfidf)"
   ]
  },
  {
   "cell_type": "markdown",
   "metadata": {
    "id": "87UtIRFu6Maw"
   },
   "source": [
    "Логистическая регрессия"
   ]
  },
  {
   "cell_type": "code",
   "execution_count": null,
   "metadata": {
    "colab": {
     "base_uri": "https://localhost:8080/"
    },
    "id": "y3VViT0LUZrD",
    "outputId": "7fca9274-c15a-4433-adc3-cc702b92267a"
   },
   "outputs": [
    {
     "name": "stdout",
     "output_type": "stream",
     "text": [
      "Accuracy:  0.39453333333333335\n",
      "Macro precision:  0.34930223792348364\n",
      "Micro precision:  0.39453333333333335\n",
      "Macro recall:  0.3500884391654889\n",
      "Micro recall:  0.39453333333333335\n",
      "Macro f1-score:  0.348773858464878\n",
      "Micro f1-score:  0.39453333333333335\n"
     ]
    }
   ],
   "source": [
    "logreg = LogisticRegressionCV(\n",
    "    multi_class=\"multinomial\", \n",
    "    solver=\"newton-cg\", \n",
    "    class_weight=\"balanced\", \n",
    "    random_state=SEED\n",
    ")\n",
    "logreg.fit(train_vectorize, train_labels)\n",
    "\n",
    "pred_logreg_tfidf = logreg.predict(val_vectorize)\n",
    "print_metrics(val_labels, pred_logreg_tfidf)"
   ]
  },
  {
   "cell_type": "code",
   "execution_count": null,
   "metadata": {
    "colab": {
     "base_uri": "https://localhost:8080/"
    },
    "id": "ydSV2DgMX6VM",
    "outputId": "d4b49d8b-cae9-4b2c-dacc-c3d66084cd6d"
   },
   "outputs": [
    {
     "name": "stdout",
     "output_type": "stream",
     "text": [
      "Accuracy:  0.8206666666666667\n",
      "Precision:  0.7805527805527805\n",
      "Recall:  0.7735973597359735\n",
      "F1-score:  0.777059506050058\n"
     ]
    }
   ],
   "source": [
    "print_sentiment_metrics(val_labels, pred_logreg_tfidf)"
   ]
  },
  {
   "cell_type": "markdown",
   "metadata": {
    "id": "MFCewdgA6PNH"
   },
   "source": [
    "SVM"
   ]
  },
  {
   "cell_type": "code",
   "execution_count": null,
   "metadata": {
    "colab": {
     "base_uri": "https://localhost:8080/"
    },
    "id": "jbysftzEPJZ5",
    "outputId": "681fa172-e558-49c6-9d2f-441cef6c014e"
   },
   "outputs": [
    {
     "name": "stdout",
     "output_type": "stream",
     "text": [
      "Accuracy:  0.358\n",
      "Macro precision:  0.3200443551704755\n",
      "Micro precision:  0.358\n",
      "Macro recall:  0.31762523929464104\n",
      "Micro recall:  0.358\n",
      "Macro f1-score:  0.317878698059188\n",
      "Micro f1-score:  0.35800000000000004\n"
     ]
    },
    {
     "name": "stderr",
     "output_type": "stream",
     "text": [
      "/usr/local/lib/python3.9/dist-packages/sklearn/svm/_base.py:1244: ConvergenceWarning: Liblinear failed to converge, increase the number of iterations.\n",
      "  warnings.warn(\n"
     ]
    }
   ],
   "source": [
    "linear_svc = LinearSVC(\n",
    "    multi_class=\"crammer_singer\", \n",
    "    class_weight=\"balanced\", \n",
    "    random_state=SEED\n",
    ")\n",
    "linear_svc.fit(train_vectorize, train_labels)\n",
    "\n",
    "pred_svc_tfidf = linear_svc.predict(val_vectorize)\n",
    "print_metrics(val_labels, pred_svc_tfidf)"
   ]
  },
  {
   "cell_type": "code",
   "execution_count": null,
   "metadata": {
    "colab": {
     "base_uri": "https://localhost:8080/"
    },
    "id": "RmlrUa0DX85k",
    "outputId": "efc4900b-be37-4552-c146-509cc5b2e5ce"
   },
   "outputs": [
    {
     "name": "stdout",
     "output_type": "stream",
     "text": [
      "Accuracy:  0.8002666666666667\n",
      "Precision:  0.7617908407382091\n",
      "Recall:  0.7356435643564356\n",
      "F1-score:  0.7484889187374077\n"
     ]
    }
   ],
   "source": [
    "print_sentiment_metrics(val_labels, pred_svc_tfidf)"
   ]
  },
  {
   "cell_type": "markdown",
   "metadata": {
    "id": "2EnZ4RpWwIiv"
   },
   "source": [
    "Среди классических методов наилучшее качество дала логистическая регрессия."
   ]
  },
  {
   "cell_type": "markdown",
   "metadata": {
    "id": "V0SX5SeQwPi2"
   },
   "source": [
    "### Нейросети"
   ]
  },
  {
   "cell_type": "code",
   "execution_count": 21,
   "metadata": {
    "id": "TTZy_haLjfwp"
   },
   "outputs": [],
   "source": [
    "from tqdm.notebook import tqdm\n",
    "from torchdata.datapipes.iter import IterableWrapper\n",
    "from torchtext.data.functional import to_map_style_dataset\n",
    "from torchtext.data.utils import get_tokenizer\n",
    "from torchtext.vocab import build_vocab_from_iterator\n",
    "from torch.utils.data import DataLoader\n",
    "from torch.nn.utils.rnn import pad_sequence\n",
    "from sklearn.utils import compute_class_weight\n",
    "\n",
    "import matplotlib.pyplot as plt \n",
    "import torch.nn as nn\n",
    "import torch\n",
    "\n",
    "device = \"cuda\" if torch.cuda.is_available() else \"cpu\""
   ]
  },
  {
   "cell_type": "code",
   "execution_count": 22,
   "metadata": {
    "id": "en6FFT_TjhGU"
   },
   "outputs": [],
   "source": [
    "torch.manual_seed(SEED)\n",
    "torch.backends.cudnn.deterministic = True"
   ]
  },
  {
   "cell_type": "markdown",
   "metadata": {
    "id": "nXsZk5g_wYTS"
   },
   "source": [
    "Создание словаря"
   ]
  },
  {
   "cell_type": "code",
   "execution_count": 23,
   "metadata": {
    "id": "zDRuZip0jify"
   },
   "outputs": [],
   "source": [
    "def text_iterator(text):\n",
    "    for row in text:\n",
    "        yield tokenizer.tokenize(row)"
   ]
  },
  {
   "cell_type": "code",
   "execution_count": 24,
   "metadata": {
    "colab": {
     "base_uri": "https://localhost:8080/"
    },
    "id": "xhztvQC1jkSW",
    "outputId": "7fe37e68-78e8-46cf-c502-72b5a7ec6f11"
   },
   "outputs": [
    {
     "name": "stdout",
     "output_type": "stream",
     "text": [
      "21963\n"
     ]
    }
   ],
   "source": [
    "text_vocab = build_vocab_from_iterator(text_iterator(train_text), \n",
    "                                       specials=[\"<unk>\", \"<pad>\"], \n",
    "                                       min_freq=5)\n",
    "text_vocab.set_default_index(text_vocab[\"<unk>\"])\n",
    "print(len(text_vocab))"
   ]
  },
  {
   "cell_type": "markdown",
   "metadata": {
    "id": "6RTIQtgOwtdZ"
   },
   "source": [
    "Предобработка данных перед подачей в нейросеть, а именно:\n",
    "1. Токенизация предложений и замена слов на их индекс из словаря\n",
    "2. Разделение данных на батчи, предварительно отсортиовав предложения по длине\n",
    "3. Создание даталоадеров, в которых батчи преобразуются в torch.tensor\n",
    "\n",
    "Перед преобразованием батчей в torch.tensor предложения приводятся к одной длине с помощью паддинга. Чем меньше предложения отличаются по длине друг от друга, тем меньше памяти будет тратится на паддинг. "
   ]
  },
  {
   "cell_type": "markdown",
   "metadata": {
    "id": "h8AtlEcjzYhx"
   },
   "source": [
    "Построим box-plot для распределения количества слов в предложениях"
   ]
  },
  {
   "cell_type": "code",
   "execution_count": 13,
   "metadata": {
    "colab": {
     "base_uri": "https://localhost:8080/",
     "height": 283
    },
    "id": "HZFk1hI4zdal",
    "outputId": "900319f0-c996-46bf-a570-cb3386dadcda"
   },
   "outputs": [
    {
     "data": {
      "text/plain": [
       "<Axes: >"
      ]
     },
     "execution_count": 13,
     "metadata": {},
     "output_type": "execute_result"
    },
    {
     "data": {
      "image/png": "[encoded data removed]",
      "text/plain": [
       "<Figure size 432x288 with 1 Axes>"
      ]
     },
     "metadata": {
      "needs_background": "light"
     },
     "output_type": "display_data"
    }
   ],
   "source": [
    "df_train[\"count_words\"] = df_train[\"lemmatize_text\"].apply(lambda x: len(x.split(\" \")))\n",
    "df_train[\"count_words\"].plot(kind=\"box\")"
   ]
  },
  {
   "cell_type": "markdown",
   "metadata": {
    "id": "11tj5dLDzm0i"
   },
   "source": [
    "Посмотрим, у скольких предложений количество слов больше 300"
   ]
  },
  {
   "cell_type": "code",
   "execution_count": 14,
   "metadata": {
    "colab": {
     "base_uri": "https://localhost:8080/"
    },
    "id": "JzC_1ksEzkAH",
    "outputId": "76482576-e4a7-4b59-cad0-101e31dc1d16"
   },
   "outputs": [
    {
     "data": {
      "text/plain": [
       "1442"
      ]
     },
     "execution_count": 14,
     "metadata": {},
     "output_type": "execute_result"
    }
   ],
   "source": [
    "len(df_train.query(\"count_words > 300\"))"
   ]
  },
  {
   "cell_type": "code",
   "execution_count": 15,
   "metadata": {
    "colab": {
     "base_uri": "https://localhost:8080/"
    },
    "id": "pBJOZvR73HE_",
    "outputId": "8720581f-c185-49f8-d442-5144338e18de"
   },
   "outputs": [
    {
     "data": {
      "text/plain": [
       "0.05768"
      ]
     },
     "execution_count": 15,
     "metadata": {},
     "output_type": "execute_result"
    }
   ],
   "source": [
    "1442 / 25000"
   ]
  },
  {
   "cell_type": "markdown",
   "metadata": {
    "id": "iUpfyhHc3K_h"
   },
   "source": [
    "Только 5% предложений имеют количество слов, большее чем 300. Для уменьшения потребления памяти, ограничим количество слов в предложениях до 300."
   ]
  },
  {
   "cell_type": "code",
   "execution_count": 25,
   "metadata": {
    "id": "WiOg54B0jlxB"
   },
   "outputs": [],
   "source": [
    "def preprocess_pipe(row, tokenizer=tokenizer, vocab=text_vocab):\n",
    "    tokens = vocab(tokenizer.tokenize(row[0])[:300])\n",
    "    return (tokens, row[1])\n",
    "\n",
    "def sort_keys(data):\n",
    "    return sorted(data, key=lambda x: len(x[0]))"
   ]
  },
  {
   "cell_type": "code",
   "execution_count": 26,
   "metadata": {
    "id": "PKP8pNWmjnSu"
   },
   "outputs": [],
   "source": [
    "train_dp = IterableWrapper(zip(train_text, train_labels))\n",
    "val_dp = IterableWrapper(zip(val_text, val_labels))\n",
    "\n",
    "train_dp_prep = train_dp.map(preprocess_pipe)\n",
    "val_dp_prep = val_dp.map(preprocess_pipe)\n",
    "\n",
    "train_dp_bucket = train_dp_prep.bucketbatch(128, sort_key=sort_keys)\n",
    "val_dp_bucket = val_dp_prep.bucketbatch(128, sort_key=sort_keys)\n",
    "\n",
    "train_dataset = to_map_style_dataset(train_dp_bucket)\n",
    "val_dataset = to_map_style_dataset(val_dp_bucket)"
   ]
  },
  {
   "cell_type": "code",
   "execution_count": 27,
   "metadata": {
    "id": "Io1HL_PJjoqL"
   },
   "outputs": [],
   "source": [
    "def batch_preprocess(batch):\n",
    "    sent_list = []\n",
    "    label_list = []\n",
    "    for sent, label in batch:\n",
    "        pad_sent = sent + [0]*(300 - len(sent))\n",
    "        sent_list.append(pad_sent)\n",
    "        label_list.append(label)\n",
    "    sents_tensor = torch.tensor(sent_list, dtype=torch.int64).permute((1,0)).contiguous()\n",
    "    labels_tensor = torch.tensor(label_list, dtype=torch.int64)\n",
    "\n",
    "    return (sents_tensor, labels_tensor)"
   ]
  },
  {
   "cell_type": "code",
   "execution_count": 28,
   "metadata": {
    "id": "IfhdsGLZjqGZ"
   },
   "outputs": [],
   "source": [
    "train_dataloader = DataLoader(train_dataset, batch_size=None, collate_fn=batch_preprocess, shuffle=True)\n",
    "val_dataloader = DataLoader(val_dataset, batch_size=None, collate_fn=batch_preprocess)"
   ]
  },
  {
   "cell_type": "markdown",
   "metadata": {
    "id": "rikG3GPWz3I1"
   },
   "source": [
    "Функции для обучения и оценки моделей"
   ]
  },
  {
   "cell_type": "code",
   "execution_count": 30,
   "metadata": {
    "id": "YNePgNPEskAS"
   },
   "outputs": [],
   "source": [
    "def train_step(model,\n",
    "               dataloader,\n",
    "               criterion,\n",
    "               optimizer):\n",
    "    mean_accuracy = 0.0\n",
    "    mean_loss = 0.0\n",
    "    count_sents = 0\n",
    "\n",
    "    model.train()\n",
    "    for batch in tqdm(dataloader):\n",
    "        sents, labels = batch\n",
    "        sents = sents.to(device)\n",
    "        labels = labels.to(device)\n",
    "\n",
    "        optimizer.zero_grad()\n",
    "        pred = model(sents)\n",
    "\n",
    "        pred_labels = pred.argmax(axis=1)\n",
    "        mean_accuracy += (pred_labels == labels).sum().item()\n",
    "\n",
    "        loss = criterion(pred, labels)\n",
    "        loss.backward()\n",
    "        optimizer.step()\n",
    "        mean_loss += loss.detach()\n",
    "\n",
    "        count_sents += sents.shape[1]\n",
    "    \n",
    "    mean_accuracy /= count_sents\n",
    "    mean_loss /= count_sents\n",
    "\n",
    "    return mean_accuracy, mean_loss\n",
    "\n",
    "def val_step(model,\n",
    "             dataloader,\n",
    "             criterion):\n",
    "    mean_accuracy = 0.0\n",
    "    mean_loss = 0.0\n",
    "    count_sents = 0\n",
    "\n",
    "    model.eval()\n",
    "    for batch in tqdm(dataloader):\n",
    "        sents, labels = batch\n",
    "        sents = sents.to(device)\n",
    "        labels = labels.to(device)\n",
    "\n",
    "        pred = model(sents)\n",
    "\n",
    "        pred_labels = pred.argmax(axis=1)\n",
    "        mean_accuracy += (pred_labels == labels).sum().item()\n",
    "\n",
    "        loss = criterion(pred, labels)\n",
    "        mean_loss += loss.detach()\n",
    "\n",
    "        count_sents += sents.shape[1]\n",
    "    \n",
    "    mean_accuracy /= count_sents\n",
    "    mean_loss /= count_sents\n",
    "    \n",
    "    return mean_accuracy, mean_loss\n",
    "\n",
    "def train(model,\n",
    "          train_dataloader,\n",
    "          val_dataloader,\n",
    "          criterion,\n",
    "          optimizer,\n",
    "          save_dir=None,\n",
    "          scheduler=None,\n",
    "          epochs=10):\n",
    "    \n",
    "    history = {\n",
    "        \"train_loss\":[],\n",
    "        \"train_acc\":[],\n",
    "        \"val_loss\":[],\n",
    "        \"val_acc\":[]\n",
    "    }\n",
    "    min_loss = 999999\n",
    "\n",
    "    for epoch in tqdm(range(epochs)):\n",
    "        train_acc, train_loss = train_step(model, \n",
    "                                        train_dataloader, \n",
    "                                        criterion, \n",
    "                                        optimizer)\n",
    "        \n",
    "        history[\"train_loss\"].append(train_loss.item())\n",
    "        history[\"train_acc\"].append(train_acc)\n",
    "        print(f\"Epoch: {epoch}, Train_loss: {train_loss}, Train_acc: {train_acc}\")\n",
    "\n",
    "        val_acc, val_loss = val_step(model,\n",
    "                                     val_dataloader,\n",
    "                                     criterion)\n",
    "        history[\"val_loss\"].append(val_loss.item())\n",
    "        history[\"val_acc\"].append(val_acc)\n",
    "        print(f\"Epoch: {epoch}, Val_loss: {val_loss}, Val_acc: {val_acc}\")\n",
    "        if not save_dir is None and min_loss > val_loss:\n",
    "            print(\"New best result!\")\n",
    "            best_loss = val_loss\n",
    "            torch.save(model.state_dict(), save_dir)\n",
    "    return history\n",
    "\n",
    "def eval_model(model, dataloader):\n",
    "    pred_labels = []\n",
    "    true_labels = []\n",
    "    \n",
    "    model.eval()\n",
    "    for batch in dataloader:\n",
    "        sents, labels = batch\n",
    "        sents = sents.to(device)\n",
    "\n",
    "        pred = model(sents)\n",
    "\n",
    "        pred_labels.extend(pred.argmax(axis=1).tolist())\n",
    "        true_labels.extend(labels.tolist())\n",
    "    true_labels = np.array(true_labels)\n",
    "    pred_labels = np.array(pred_labels)\n",
    "    print_metrics(true_labels, pred_labels)\n",
    "    print()\n",
    "    print_sentiment_metrics(true_labels, pred_labels)\n",
    "    return pred_labels\n",
    "\n",
    "def draw_history(history):\n",
    "    figure = plt.figure(figsize=(10, 10))\n",
    "    gs = figure.add_gridspec(2, 1)\n",
    "\n",
    "    figure.add_subplot(gs[0, 0])\n",
    "    plt.plot(list(range(len(history[\"train_acc\"]))), \n",
    "             history[\"train_acc\"], \n",
    "             label=\"train_acc\")\n",
    "    plt.plot(list(range(len(history[\"val_acc\"]))), \n",
    "             history[\"val_acc\"], \n",
    "             label=\"val_acc\")\n",
    "    plt.legend()\n",
    "\n",
    "    figure.add_subplot(gs[1, 0])\n",
    "    plt.plot(list(range(len(history[\"train_loss\"]))), \n",
    "             history[\"train_loss\"], \n",
    "             label=\"train_loss\")\n",
    "    plt.plot(list(range(len(history[\"val_loss\"]))), \n",
    "             history[\"val_loss\"], \n",
    "             label=\"val_loss\")\n",
    "    plt.legend()"
   ]
  },
  {
   "cell_type": "markdown",
   "metadata": {
    "id": "xhIYQ7I40x3t"
   },
   "source": [
    "### EmbBag"
   ]
  },
  {
   "cell_type": "markdown",
   "metadata": {
    "id": "d-lzzXwL0Kmn"
   },
   "source": [
    "Первая модель производит классификацию по усредненным эмбеддингам слов."
   ]
  },
  {
   "cell_type": "code",
   "execution_count": 59,
   "metadata": {
    "id": "9_L-T5u7sl34"
   },
   "outputs": [],
   "source": [
    "class EmbeddingBagModel(nn.Module):\n",
    "\n",
    "    def __init__(self, input_dim, output_dim):\n",
    "        super().__init__()\n",
    "\n",
    "        self.emb_bag = nn.EmbeddingBag(input_dim, 128)\n",
    "\n",
    "        self.dropout = nn.Dropout(0.5)\n",
    "        self.relu = nn.ReLU()\n",
    "\n",
    "        self.fc1 = nn.Linear(128, 128)\n",
    "        self.bn1 = nn.BatchNorm1d(128)\n",
    "        self.fc2 = nn.Linear(128, 256)\n",
    "        self.bn2 = nn.BatchNorm1d(256)\n",
    "        self.fc3 = nn.Linear(256, output_dim)\n",
    "    \n",
    "    def forward(self, x_input):\n",
    "        x = x_input.permute((1, 0))\n",
    "        x = self.dropout(self.emb_bag(x))\n",
    "        x = self.dropout(self.relu(self.bn1(self.fc1(x))))\n",
    "        x = self.relu(self.bn2(self.fc2(x)))\n",
    "        x = self.fc3(x)\n",
    "\n",
    "        return x"
   ]
  },
  {
   "cell_type": "code",
   "execution_count": 31,
   "metadata": {
    "id": "ABUtRb8fD3SD"
   },
   "outputs": [],
   "source": [
    "class_weights = torch.tensor(\n",
    "    compute_class_weight(\n",
    "        'balanced',\n",
    "        classes=df_train[\"score\"].unique(),\n",
    "        y=df_train[\"score\"]\n",
    "    ), \n",
    "    dtype=torch.float32\n",
    ").to(device)"
   ]
  },
  {
   "cell_type": "code",
   "execution_count": 65,
   "metadata": {
    "colab": {
     "base_uri": "https://localhost:8080/"
    },
    "id": "ISee91wvsoxa",
    "outputId": "2c85d2e3-a0dc-4f00-fe11-2864c6751da0"
   },
   "outputs": [
    {
     "name": "stdout",
     "output_type": "stream",
     "text": [
      "Params:  2872072\n"
     ]
    }
   ],
   "source": [
    "INPUT_DIM = len(text_vocab)\n",
    "OUTPUT_DIM = 8\n",
    "emb_bag_model = EmbeddingBagModel(INPUT_DIM, OUTPUT_DIM)\n",
    "emb_bag_model.to(device)\n",
    "\n",
    "lr = 0.001\n",
    "criterion = nn.CrossEntropyLoss(weight=class_weights)\n",
    "optimizer = torch.optim.AdamW(emb_bag_model.parameters(), lr, weight_decay=0.01)\n",
    "scheduler = torch.optim.lr_scheduler.StepLR(optimizer, 10, 0.1)\n",
    "print(\"Params: \", sum([param.numel() for param in emb_bag_model.parameters()]))"
   ]
  },
  {
   "cell_type": "code",
   "execution_count": null,
   "metadata": {
    "id": "EFX0pOhfsqvW"
   },
   "outputs": [],
   "source": [
    "history = train(emb_bag_model, \n",
    "                train_dataloader,\n",
    "                val_dataloader,\n",
    "                criterion,\n",
    "                optimizer,\n",
    "                scheduler=scheduler,\n",
    "                epochs=25)"
   ]
  },
  {
   "cell_type": "code",
   "execution_count": 67,
   "metadata": {
    "colab": {
     "base_uri": "https://localhost:8080/"
    },
    "id": "92VCVSN9ZIxz",
    "outputId": "c650478b-5412-47f4-8d3d-6707c4aa57bc"
   },
   "outputs": [
    {
     "name": "stdout",
     "output_type": "stream",
     "text": [
      "Accuracy:  0.3778666666666667\n",
      "Macro precision:  0.3797009341610834\n",
      "Micro precision:  0.3778666666666667\n",
      "Macro recall:  0.3125589254008257\n",
      "Micro recall:  0.3778666666666667\n",
      "Macro f1-score:  0.244902940299268\n",
      "Micro f1-score:  0.37786666666666674\n",
      "\n",
      "Accuracy:  0.766\n",
      "Precision:  0.8524046434494196\n",
      "Recall:  0.5089108910891089\n",
      "F1-score:  0.6373217606943584\n"
     ]
    },
    {
     "name": "stderr",
     "output_type": "stream",
     "text": [
      "/usr/local/lib/python3.9/dist-packages/sklearn/metrics/_classification.py:1344: UndefinedMetricWarning: Precision is ill-defined and being set to 0.0 in labels with no predicted samples. Use `zero_division` parameter to control this behavior.\n",
      "  _warn_prf(average, modifier, msg_start, len(result))\n"
     ]
    }
   ],
   "source": [
    "labels = eval_model(emb_bag_model, val_dataloader)"
   ]
  },
  {
   "cell_type": "code",
   "execution_count": 68,
   "metadata": {
    "colab": {
     "base_uri": "https://localhost:8080/",
     "height": 592
    },
    "id": "LSW2VXUxzNlk",
    "outputId": "9170ebe3-128f-49b4-c110-7af0174f876a"
   },
   "outputs": [
    {
     "data": {
      "image/png": "[encoded data removed]",
      "text/plain": [
       "<Figure size 720x720 with 2 Axes>"
      ]
     },
     "metadata": {
      "needs_background": "light"
     },
     "output_type": "display_data"
    }
   ],
   "source": [
    "draw_history(history)"
   ]
  },
  {
   "cell_type": "markdown",
   "metadata": {
    "id": "D41d7IxO03qP"
   },
   "source": [
    "### RNN_Model"
   ]
  },
  {
   "cell_type": "markdown",
   "metadata": {
    "id": "GIDDTmXG07cM"
   },
   "source": [
    "Вторая модель основана на рекуррентной сети BiLSTM с использованием ConcatAttention."
   ]
  },
  {
   "cell_type": "code",
   "execution_count": 32,
   "metadata": {
    "id": "V2w0RvfvzQ0p"
   },
   "outputs": [],
   "source": [
    "class ConcatAttention(nn.Module):\n",
    "    def __init__(self, hid_dim):\n",
    "        super().__init__()\n",
    "        \n",
    "        self.hid_dim = hid_dim\n",
    "        self.attn = nn.Linear(hid_dim*2, hid_dim)\n",
    "        self.v = nn.Linear(hid_dim, 1)\n",
    "        self.softmax = nn.Softmax(dim=0)\n",
    "        \n",
    "    def forward(self, hidden, outputs):\n",
    "        hidden = hidden.unsqueeze(0)\n",
    "        repeat_hidden = hidden.repeat((len(outputs), 1, 1)) \n",
    "\n",
    "        concat_hidden = torch.concat((repeat_hidden, outputs), axis=2)\n",
    "\n",
    "        energy = torch.tanh(self.attn(concat_hidden))\n",
    "\n",
    "        attention = self.softmax(self.v(energy))\n",
    "\n",
    "        return attention\n",
    "\n",
    "class RNNModel(nn.Module):\n",
    "    def __init__(self, input_dim, output_dim, bidirectional=True):\n",
    "        super().__init__()\n",
    "        self.emb = nn.Embedding(input_dim, 64)\n",
    "\n",
    "        self.rnn = nn.LSTM(64, \n",
    "                           128, \n",
    "                           bidirectional=True, \n",
    "                           num_layers=1) \n",
    "        self.attention = ConcatAttention(256)\n",
    "        self.fc = nn.Linear(256, output_dim)\n",
    "    \n",
    "    def forward(self, x_input):\n",
    "        x = self.emb(x_input)\n",
    "        output, (h, c) = self.rnn(x)\n",
    "        h = h.permute((1, 0 ,2)).reshape((x_input.shape[1], -1))\n",
    "        attn = self.attention(h, output)\n",
    "        x_attn = (attn * output).sum(axis=0)\n",
    "        x = self.fc(x_attn)\n",
    "        \n",
    "        return x"
   ]
  },
  {
   "cell_type": "code",
   "execution_count": 36,
   "metadata": {
    "colab": {
     "base_uri": "https://localhost:8080/"
    },
    "id": "0YcGUD6AzSiq",
    "outputId": "e3be9dfb-e95d-43a5-ad89-5f71f56ecfda"
   },
   "outputs": [
    {
     "name": "stdout",
     "output_type": "stream",
     "text": [
      "Params:  1737929\n"
     ]
    }
   ],
   "source": [
    "INPUT_DIM = len(text_vocab)\n",
    "OUTPUT_DIM = 8\n",
    "\n",
    "rnn_model = RNNModel(INPUT_DIM, OUTPUT_DIM)\n",
    "rnn_model.to(device)\n",
    "\n",
    "lr = 0.0001\n",
    "criterion = nn.CrossEntropyLoss(weight=class_weights)\n",
    "optimizer = torch.optim.AdamW(rnn_model.parameters(), lr)\n",
    "print(\"Params: \", sum([param.numel() for param in rnn_model.parameters()]))"
   ]
  },
  {
   "cell_type": "code",
   "execution_count": null,
   "metadata": {
    "id": "rmWJQlZhzVN3"
   },
   "outputs": [],
   "source": [
    "history = train(rnn_model,\n",
    "                train_dataloader, \n",
    "                val_dataloader,\n",
    "                criterion,\n",
    "                optimizer,\n",
    "                epochs=15)"
   ]
  },
  {
   "cell_type": "code",
   "execution_count": 38,
   "metadata": {
    "colab": {
     "base_uri": "https://localhost:8080/",
     "height": 592
    },
    "id": "LoOdQrfVrTKp",
    "outputId": "160c829f-912a-4c17-f691-d21601dd68ed"
   },
   "outputs": [
    {
     "data": {
      "image/png": "[encoded data removed]",
      "text/plain": [
       "<Figure size 720x720 with 2 Axes>"
      ]
     },
     "metadata": {
      "needs_background": "light"
     },
     "output_type": "display_data"
    }
   ],
   "source": [
    "draw_history(history)"
   ]
  },
  {
   "cell_type": "code",
   "execution_count": 40,
   "metadata": {
    "colab": {
     "base_uri": "https://localhost:8080/"
    },
    "id": "Ri-a7aiNr6ZC",
    "outputId": "8ada25e3-9d37-462b-8035-8409e9278e5c"
   },
   "outputs": [
    {
     "name": "stdout",
     "output_type": "stream",
     "text": [
      "Accuracy:  0.3364\n",
      "Macro precision:  0.1821153934157015\n",
      "Micro precision:  0.3364\n",
      "Macro recall:  0.25207281924151903\n",
      "Micro recall:  0.3364\n",
      "Macro f1-score:  0.20602350967838434\n",
      "Micro f1-score:  0.3364\n",
      "\n",
      "Accuracy:  0.7589333333333333\n",
      "Precision:  0.6578194119177726\n",
      "Recall:  0.8368090036411784\n",
      "F1-score:  0.7365967365967367\n"
     ]
    },
    {
     "name": "stderr",
     "output_type": "stream",
     "text": [
      "/usr/local/lib/python3.9/dist-packages/sklearn/metrics/_classification.py:1344: UndefinedMetricWarning: Precision is ill-defined and being set to 0.0 in labels with no predicted samples. Use `zero_division` parameter to control this behavior.\n",
      "  _warn_prf(average, modifier, msg_start, len(result))\n"
     ]
    }
   ],
   "source": [
    "labels = eval_model(rnn_model, val_dataloader)"
   ]
  },
  {
   "cell_type": "markdown",
   "metadata": {
    "id": "UXhlEuA_1OI0"
   },
   "source": [
    "Среди двух рассмотреных нейросетевых моделей наилучшее качество имеет EmbeddingBagModel. \n",
    "\n",
    "Наилучшее качество серди всех рассмотренных моделей дала логистическая регрессия, которая и будет использоваться для классификации отзыва в веб-приложении."
   ]
  },
  {
   "cell_type": "markdown",
   "metadata": {
    "id": "xXmHZRZ451Xs"
   },
   "source": [
    "Сохраним модель логистической регресии и tfidf_vectorizer, а также посчитаем значения метрик на тестовом наборе."
   ]
  },
  {
   "cell_type": "code",
   "execution_count": null,
   "metadata": {
    "id": "pKMIn7Q72k7l"
   },
   "outputs": [],
   "source": [
    "import pickle\n",
    "\n",
    "with open(\"tfidf_vectorizer.pickle\", \"wb\") as f:\n",
    "    pickle.dump(tfidf_vectorizer, f)\n",
    "\n",
    "with open(\"logreg.pickle\", \"wb\") as f:\n",
    "    pickle.dump(logreg, f)"
   ]
  },
  {
   "cell_type": "code",
   "execution_count": 22,
   "metadata": {
    "id": "CrSnEe1V4qu2"
   },
   "outputs": [],
   "source": [
    "test_text = df_test[\"lemmatize_text\"].to_numpy()\n",
    "test_labels = df_test[\"score\"].to_numpy()\n",
    "test_vectorize = tfidf_vectorizer.transform(test_text)"
   ]
  },
  {
   "cell_type": "code",
   "execution_count": 23,
   "metadata": {
    "colab": {
     "base_uri": "https://localhost:8080/"
    },
    "id": "wy417Ak_5McK",
    "outputId": "587cc5ef-47db-4648-827a-a82ad7cea653"
   },
   "outputs": [
    {
     "name": "stdout",
     "output_type": "stream",
     "text": [
      "Accuracy:  0.38292\n",
      "Macro precision:  0.32789692383659697\n",
      "Micro precision:  0.38292\n",
      "Macro recall:  0.33034268520036536\n",
      "Micro recall:  0.38292\n",
      "Macro f1-score:  0.3284319406976689\n",
      "Micro f1-score:  0.38292\n",
      "Accuracy:  0.81452\n",
      "Precision:  0.78077622801698\n",
      "Recall:  0.7578730501324439\n",
      "F1-score:  0.7691541793199582\n"
     ]
    }
   ],
   "source": [
    "pred_logreg_test = logreg.predict(test_vectorize)\n",
    "print_metrics(test_labels, pred_logreg_test)\n",
    "print_sentiment_metrics(test_labels, pred_logreg_test)"
   ]
  }
 ],
 "metadata": {
  "colab": {
   "provenance": []
  },
  "gpuClass": "standard",
  "kernelspec": {
   "display_name": "Python 3 (ipykernel)",
   "language": "python",
   "name": "python3"
  },
  "language_info": {
   "codemirror_mode": {
    "name": "ipython",
    "version": 3
   },
   "file_extension": ".py",
   "mimetype": "text/x-python",
   "name": "python",
   "nbconvert_exporter": "python",
   "pygments_lexer": "ipython3",
   "version": "3.10.10"
  }
 },
 "nbformat": 4,
 "nbformat_minor": 1
}
